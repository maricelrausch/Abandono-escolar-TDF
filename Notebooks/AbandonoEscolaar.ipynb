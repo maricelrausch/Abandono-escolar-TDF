{
 "cells": [
  {
   "cell_type": "code",
   "execution_count": 1,
   "id": "19415966-0e24-47ce-887c-b17f6d2b96f4",
   "metadata": {},
   "outputs": [],
   "source": [
    "import pandas as pd\n",
    "import numpy as np\n"
   ]
  },
  {
   "cell_type": "code",
   "execution_count": 7,
   "id": "81a298a4-1592-4db6-9b40-5012a04692cc",
   "metadata": {},
   "outputs": [],
   "source": [
    "# Reemplaza 'ruta_del_archivo' con la ruta específica donde guardaste los archivos\n",
    "base_path = 'C:/Users/maric/OneDrive/Documentos/Aprendizaje automático/Docs abandono escolar/DATA/'\n",
    "\n",
    "repitentes_df = pd.read_excel(base_path + '04_01_06-Secundario-comun.-Promocion-efectiva-sobreedad-y-abandono-interanual-por-ano-de-estudio.-TDF.xlsx')\n",
    "promocion_df = pd.read_excel(base_path + '04-1-09-Secundario-comun.-Matricula-por-sector-de-gestion-ano-de-estudio-y-departamento.-TDF-USH-RGA-y-AA.xlsx')\n",
    "matricula_df = pd.read_excel(base_path + '04-1-10-Secundario-comun.-Repitentes-por-sector-de-gestion-y-ano-de-estudio.-2008-2021.xlsx')\n",
    "\n"
   ]
  },
  {
   "cell_type": "code",
   "execution_count": 15,
   "id": "6e88863b-f1eb-4e0d-a6b3-f6ad17e0059e",
   "metadata": {},
   "outputs": [
    {
     "data": {
      "text/html": [
       "<div>\n",
       "<style scoped>\n",
       "    .dataframe tbody tr th:only-of-type {\n",
       "        vertical-align: middle;\n",
       "    }\n",
       "\n",
       "    .dataframe tbody tr th {\n",
       "        vertical-align: top;\n",
       "    }\n",
       "\n",
       "    .dataframe thead th {\n",
       "        text-align: right;\n",
       "    }\n",
       "</style>\n",
       "<table border=\"1\" class=\"dataframe\">\n",
       "  <thead>\n",
       "    <tr style=\"text-align: right;\">\n",
       "      <th></th>\n",
       "      <th>Secundario común. Promoción efectiva, sobreedad y abandono interanual por año de estudio. Provincia de Tierra del Fuego AeIAS.</th>\n",
       "    </tr>\n",
       "  </thead>\n",
       "  <tbody>\n",
       "    <tr>\n",
       "      <th>0</th>\n",
       "      <td>NaN</td>\n",
       "    </tr>\n",
       "    <tr>\n",
       "      <th>1</th>\n",
       "      <td>Índice</td>\n",
       "    </tr>\n",
       "    <tr>\n",
       "      <th>2</th>\n",
       "      <td>NaN</td>\n",
       "    </tr>\n",
       "    <tr>\n",
       "      <th>3</th>\n",
       "      <td>Tasa de promoción efectiva y sobreedad</td>\n",
       "    </tr>\n",
       "    <tr>\n",
       "      <th>4</th>\n",
       "      <td>Tasa de abandono internual</td>\n",
       "    </tr>\n",
       "    <tr>\n",
       "      <th>5</th>\n",
       "      <td>Ficha técnica</td>\n",
       "    </tr>\n",
       "    <tr>\n",
       "      <th>6</th>\n",
       "      <td>NaN</td>\n",
       "    </tr>\n",
       "    <tr>\n",
       "      <th>7</th>\n",
       "      <td>Signos convencionales</td>\n",
       "    </tr>\n",
       "    <tr>\n",
       "      <th>8</th>\n",
       "      <td>… Dato no disponible a la fecha</td>\n",
       "    </tr>\n",
       "  </tbody>\n",
       "</table>\n",
       "</div>"
      ],
      "text/plain": [
       "  Secundario común. Promoción efectiva, sobreedad y abandono interanual por año de estudio. Provincia de Tierra del Fuego AeIAS. \n",
       "0                                                NaN                                                                             \n",
       "1                                             Índice                                                                             \n",
       "2                                                NaN                                                                             \n",
       "3             Tasa de promoción efectiva y sobreedad                                                                             \n",
       "4                         Tasa de abandono internual                                                                             \n",
       "5                                      Ficha técnica                                                                             \n",
       "6                                                NaN                                                                             \n",
       "7                             Signos convencionales                                                                              \n",
       "8                    … Dato no disponible a la fecha                                                                             "
      ]
     },
     "execution_count": 15,
     "metadata": {},
     "output_type": "execute_result"
    }
   ],
   "source": [
    "repitentes_df.head(15)\n"
   ]
  },
  {
   "cell_type": "code",
   "execution_count": 17,
   "id": "9e76f5b6-71ff-4445-80ca-2e1c04d13e4a",
   "metadata": {},
   "outputs": [
    {
     "data": {
      "text/html": [
       "<div>\n",
       "<style scoped>\n",
       "    .dataframe tbody tr th:only-of-type {\n",
       "        vertical-align: middle;\n",
       "    }\n",
       "\n",
       "    .dataframe tbody tr th {\n",
       "        vertical-align: top;\n",
       "    }\n",
       "\n",
       "    .dataframe thead th {\n",
       "        text-align: right;\n",
       "    }\n",
       "</style>\n",
       "<table border=\"1\" class=\"dataframe\">\n",
       "  <thead>\n",
       "    <tr style=\"text-align: right;\">\n",
       "      <th></th>\n",
       "      <th>Secundario común. Promoción efectiva, sobreedad y abandono interanual por año de estudio. Provincia de Tierra del Fuego AeIAS.</th>\n",
       "    </tr>\n",
       "  </thead>\n",
       "  <tbody>\n",
       "    <tr>\n",
       "      <th>0</th>\n",
       "      <td>Ficha técnica</td>\n",
       "    </tr>\n",
       "    <tr>\n",
       "      <th>1</th>\n",
       "      <td>NaN</td>\n",
       "    </tr>\n",
       "    <tr>\n",
       "      <th>2</th>\n",
       "      <td>Signos convencionales</td>\n",
       "    </tr>\n",
       "    <tr>\n",
       "      <th>3</th>\n",
       "      <td>… Dato no disponible a la fecha</td>\n",
       "    </tr>\n",
       "  </tbody>\n",
       "</table>\n",
       "</div>"
      ],
      "text/plain": [
       "  Secundario común. Promoción efectiva, sobreedad y abandono interanual por año de estudio. Provincia de Tierra del Fuego AeIAS. \n",
       "0                                      Ficha técnica                                                                             \n",
       "1                                                NaN                                                                             \n",
       "2                             Signos convencionales                                                                              \n",
       "3                    … Dato no disponible a la fecha                                                                             "
      ]
     },
     "execution_count": 17,
     "metadata": {},
     "output_type": "execute_result"
    }
   ],
   "source": [
    "repitentes_df_clean = repitentes_df.copy()\n",
    "\n",
    "# Eliminar filas vacías o de encabezados textuales\n",
    "repitentes_df_clean = repitentes_df_clean.drop(index=[0, 1, 2, 3, 4], errors='ignore')\n",
    "\n",
    "# Reiniciar el índice\n",
    "repitentes_df_clean.reset_index(drop=True, inplace=True)\n",
    "\n",
    "# Visualizar resultado\n",
    "repitentes_df_clean.head()\n"
   ]
  },
  {
   "cell_type": "code",
   "execution_count": 19,
   "id": "724ad5cf-ea4c-4267-80ec-d4b398b7484c",
   "metadata": {},
   "outputs": [
    {
     "data": {
      "text/plain": [
       "Index(['Secundario común. Promoción efectiva, sobreedad y abandono interanual por año de estudio. Provincia de Tierra del Fuego AeIAS. '], dtype='object')"
      ]
     },
     "execution_count": 19,
     "metadata": {},
     "output_type": "execute_result"
    }
   ],
   "source": [
    "repitentes_df_clean.columns\n"
   ]
  },
  {
   "cell_type": "code",
   "execution_count": 23,
   "id": "7d9a628e-0b5d-4d60-9ebc-b347234e7183",
   "metadata": {},
   "outputs": [
    {
     "data": {
      "text/plain": [
       "'C:\\\\Users\\\\maric\\\\Aprendizaje automático\\\\Abandono escolar'"
      ]
     },
     "execution_count": 23,
     "metadata": {},
     "output_type": "execute_result"
    }
   ],
   "source": [
    "import os\n",
    "os.getcwd()"
   ]
  },
  {
   "cell_type": "code",
   "execution_count": null,
   "id": "dcf43c05-9feb-46ab-addf-2e53d9f51c86",
   "metadata": {},
   "outputs": [],
   "source": []
  }
 ],
 "metadata": {
  "kernelspec": {
   "display_name": "Python [conda env:base] *",
   "language": "python",
   "name": "conda-base-py"
  },
  "language_info": {
   "codemirror_mode": {
    "name": "ipython",
    "version": 3
   },
   "file_extension": ".py",
   "mimetype": "text/x-python",
   "name": "python",
   "nbconvert_exporter": "python",
   "pygments_lexer": "ipython3",
   "version": "3.12.7"
  }
 },
 "nbformat": 4,
 "nbformat_minor": 5
}
